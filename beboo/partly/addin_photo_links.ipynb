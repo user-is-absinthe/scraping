{
 "cells": [
  {
   "cell_type": "code",
   "execution_count": 12,
   "metadata": {},
   "outputs": [],
   "source": [
    "def file_to_list(path):\n",
    "    with open(path, mode='r', encoding='utf-16') as file:\n",
    "        file_text = file.readlines()\n",
    "    file_text = [this.strip() for this in file_text]\n",
    "    file_text.pop(0)\n",
    "    return file_text"
   ]
  },
  {
   "cell_type": "code",
   "execution_count": 16,
   "metadata": {},
   "outputs": [],
   "source": [
    "def csv_data_writer(path, data, separator='\\t', encode='utf-16'):\n",
    "    with open(path, 'a', encoding=encode) as csv_file:\n",
    "        for line in data:\n",
    "            now_line = ''\n",
    "            for index_column in range(len(line)):\n",
    "                now_line += str(line[index_column])\n",
    "                if index_column != len(line) - 1:\n",
    "                    now_line += separator\n",
    "            now_line += '\\n'\n",
    "            csv_file.write(now_line)\n",
    "    pass"
   ]
  },
  {
   "cell_type": "code",
   "execution_count": 31,
   "metadata": {},
   "outputs": [],
   "source": [
    "def data_writer(path, data, encode='utf-16'):\n",
    "    with open(path, 'a', encoding=encode) as file:\n",
    "        for line in data:\n",
    "            file.write(line + '\\n')"
   ]
  },
  {
   "cell_type": "code",
   "execution_count": 13,
   "metadata": {},
   "outputs": [],
   "source": [
    "paths = [\n",
    "    'C:/Users/Worker/Pycharm/Pycharm_project/scraping/beboo/partly/data/photos_links_from_2811.csv',\n",
    "    'C:/Users/Worker/Pycharm/Pycharm_project/scraping/beboo/partly/data/photos_links_from_2812.csv',\n",
    "    'C:/Users/Worker/Pycharm/Pycharm_project/scraping/beboo/partly/data/photos_links_from_2813.csv',\n",
    "    'C:/Users/Worker/Pycharm/Pycharm_project/scraping/beboo/partly/data/photos_links_from_2814.csv',\n",
    "    'C:/Users/Worker/Pycharm/Pycharm_project/scraping/beboo/partly/data/photos_links_from_2815.csv',\n",
    "    'C:/Users/Worker/Pycharm/Pycharm_project/scraping/beboo/partly/data/photos_links_from_2816.csv',\n",
    "    'C:/Users/Worker/Pycharm/Pycharm_project/scraping/beboo/partly/data/photos_links_from_2817.csv'\n",
    "]"
   ]
  },
  {
   "cell_type": "code",
   "execution_count": 14,
   "metadata": {},
   "outputs": [],
   "source": [
    "all_lines = list()\n",
    "for path in paths:\n",
    "    all_lines.append(file_to_list(path))"
   ]
  },
  {
   "cell_type": "code",
   "execution_count": 27,
   "metadata": {},
   "outputs": [
    {
     "data": {
      "text/plain": [
       "list"
      ]
     },
     "execution_count": 27,
     "metadata": {},
     "output_type": "execute_result"
    }
   ],
   "source": [
    "all_lines[0][0]\n",
    "len(all_lines[0])\n",
    "type(all_lines[0])"
   ]
  },
  {
   "cell_type": "code",
   "execution_count": 32,
   "metadata": {},
   "outputs": [],
   "source": [
    "write_path = 'C:/Users/Worker/Pycharm/Pycharm_project/scraping/beboo/partly/data/photos_links_all.csv'\n",
    "for i in all_lines:\n",
    "    data_writer(write_path, i, encode='utf-8')"
   ]
  },
  {
   "cell_type": "code",
   "execution_count": null,
   "metadata": {},
   "outputs": [],
   "source": []
  },
  {
   "cell_type": "code",
   "execution_count": null,
   "metadata": {},
   "outputs": [],
   "source": []
  },
  {
   "cell_type": "code",
   "execution_count": null,
   "metadata": {},
   "outputs": [],
   "source": []
  },
  {
   "cell_type": "code",
   "execution_count": null,
   "metadata": {},
   "outputs": [],
   "source": []
  }
 ],
 "metadata": {
  "kernelspec": {
   "display_name": "Python 2",
   "language": "python",
   "name": "python2"
  },
  "language_info": {
   "codemirror_mode": {
    "name": "ipython",
    "version": 2
   },
   "file_extension": ".py",
   "mimetype": "text/x-python",
   "name": "python",
   "nbconvert_exporter": "python",
   "pygments_lexer": "ipython2",
   "version": "2.7.6"
  }
 },
 "nbformat": 4,
 "nbformat_minor": 0
}
